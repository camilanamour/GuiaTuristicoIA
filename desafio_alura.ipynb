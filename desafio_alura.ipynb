{
  "nbformat": 4,
  "nbformat_minor": 0,
  "metadata": {
    "colab": {
      "provenance": [],
      "authorship_tag": "ABX9TyP+1OqJn5BRc44fCYR0arsq",
      "include_colab_link": true
    },
    "kernelspec": {
      "name": "python3",
      "display_name": "Python 3"
    },
    "language_info": {
      "name": "python"
    }
  },
  "cells": [
    {
      "cell_type": "markdown",
      "metadata": {
        "id": "view-in-github",
        "colab_type": "text"
      },
      "source": [
        "<a href=\"https://colab.research.google.com/github/camilanamour/GuiaTuristicoIA/blob/main/desafio_alura.ipynb\" target=\"_parent\"><img src=\"https://colab.research.google.com/assets/colab-badge.svg\" alt=\"Open In Colab\"/></a>"
      ]
    },
    {
      "cell_type": "code",
      "execution_count": 1,
      "metadata": {
        "id": "zeY3wp70CYQI"
      },
      "outputs": [],
      "source": [
        "!pip install -q -U google-generativeai"
      ]
    },
    {
      "cell_type": "code",
      "source": [
        "import google.generativeai as genai\n",
        "import re\n",
        "\n",
        "# Insira sua API\n",
        "from google.colab import userdata\n",
        "api_key = userdata.get('SECRET_KEY')\n",
        "genai.configure(api_key=api_key)\n",
        "\n",
        "# Configurações\n",
        "generation_config = {\n",
        "    \"candidate_count\": 1,\n",
        "    \"temperature\": 1\n",
        "}\n",
        "\n",
        "safety_settings = {\n",
        "  'HATE': 'BLOCK_NONE',\n",
        "  'HARASSMENT': 'BLOCK_NONE',\n",
        "  'SEXUAL': 'BLOCK_NONE',\n",
        "  'DANGEROUS': 'BLOCK_NONE'\n",
        "}\n",
        "\n",
        "model=genai.GenerativeModel(model_name='gemini-1.0-pro',\n",
        "                            generation_config=generation_config,\n",
        "                            safety_settings=safety_settings)\n",
        "\n",
        "# Start no histórico de conversa\n",
        "chat = model.start_chat(history=[])\n",
        "\n",
        "# Função para interpretar Markdown básico\n",
        "def interpretar_markdown(texto):\n",
        "  texto = re.sub(r'\\*\\*(.+?)\\*\\*', r'\\033[1m\\1\\033[0m', texto)  # Negrito\n",
        "  texto = re.sub(r'\\*(.+?)\\*', r'\\033[3m\\1\\033[0m', texto)  # Itálico\n",
        "  texto = re.sub(r'\\[(.+?)\\]\\((.+?)\\)', r'\\033[4m\\1\\033[0m (\\2)', texto)  # Links\n",
        "  return texto\n",
        "\n",
        "# Função para gerar resposta do chatbot\n",
        "def gerar_resposta(prompt):\n",
        "  prompt = f\"\"\"\n",
        "  Você é um guia turístico especializado em ajudar viajantes.\n",
        "  Responda à pergunta do usuário fornecendo informações úteis e relevantes,\n",
        "  usando **marcação Markdown** para formatar a resposta.\n",
        "\n",
        "  Pergunta do Usuário: {prompt}\n",
        "  \"\"\"\n",
        "  response = chat.send_message(prompt)\n",
        "  return response.text\n",
        "\n",
        "# Construindo o prompt para o modelo\n",
        "print(\"Desvendando o mundo: um guia turístico só para você!\\n\")\n",
        "while True:\n",
        "  prompt = input(\"Pergunta: \")\n",
        "  if prompt == 'sair':\n",
        "    break\n",
        "\n",
        "# Gerar resposta com o modelo Gemini\n",
        "  resposta = gerar_resposta(prompt)\n",
        "  resposta = interpretar_markdown(resposta)\n",
        "  print(\"Guia Turístico:\", resposta, '\\n')\n",
        "\n",
        ""
      ],
      "metadata": {
        "id": "NfTKwmGsCgl8"
      },
      "execution_count": null,
      "outputs": []
    }
  ]
}